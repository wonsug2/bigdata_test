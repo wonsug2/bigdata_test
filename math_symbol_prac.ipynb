{
  "nbformat": 4,
  "nbformat_minor": 0,
  "metadata": {
    "colab": {
      "name": "math_symbol_prac.ipynb",
      "provenance": [],
      "authorship_tag": "ABX9TyOOV/DgHUM0KABPMzNpu1YC",
      "include_colab_link": true
    },
    "kernelspec": {
      "name": "python3",
      "display_name": "Python 3"
    },
    "language_info": {
      "name": "python"
    }
  },
  "cells": [
    {
      "cell_type": "markdown",
      "metadata": {
        "id": "view-in-github",
        "colab_type": "text"
      },
      "source": [
        "<a href=\"https://colab.research.google.com/github/wonsug2/bigdata_test/blob/main/math_symbol_prac.ipynb\" target=\"_parent\"><img src=\"https://colab.research.google.com/assets/colab-badge.svg\" alt=\"Open In Colab\"/></a>"
      ]
    },
    {
      "cell_type": "markdown",
      "metadata": {
        "id": "H97K4HavCtch"
      },
      "source": [
        "## 수학 기호 연습\n",
        "\n",
        "$\\theta = 1$  \n",
        "$1 \\le 5$  \n",
        "$\\sum_{i=1}^{n}i^2$"
      ]
    },
    {
      "cell_type": "markdown",
      "metadata": {
        "id": "D10v6sgBD6Qh"
      },
      "source": [
        "$$\\sum_{i=1}^{n} \\frac{1}{i}$$"
      ]
    },
    {
      "cell_type": "markdown",
      "metadata": {
        "id": "YLMG8qpjFMk_"
      },
      "source": [
        "$$\n",
        "\\forall x \\in X, \\quad \\exists y \\leq \\epsilon  \n",
        "$$"
      ]
    },
    {
      "cell_type": "markdown",
      "metadata": {
        "id": "FQqvHh2AFNra"
      },
      "source": [
        "$$\n",
        "\\alpha, \\Alpha, \\beta, \\Beta, \\gamma, \\Gamma, \\pi, \\Pi, \\phi, \\varphi, \\mu, \\Phi\n",
        "$$"
      ]
    },
    {
      "cell_type": "markdown",
      "metadata": {
        "id": "kTlo2YNkGUzU"
      },
      "source": [
        "$\n",
        "\\cos (2\\theta) = \\cos^2 \\theta - \\sin^2 \\theta\n",
        "$"
      ]
    },
    {
      "cell_type": "markdown",
      "metadata": {
        "id": "WoCRJ6gHG9wv"
      },
      "source": [
        "$\n",
        "\\lim\\limits_{x \\to \\infty} \\exp(-x) = 0\n",
        "$"
      ]
    },
    {
      "cell_type": "markdown",
      "metadata": {
        "id": "KQpSSHvWHEyT"
      },
      "source": [
        "$\n",
        "x \\equiv a \\pmod{b}\n",
        "$"
      ]
    },
    {
      "cell_type": "markdown",
      "metadata": {
        "id": "llK2lPckHeJ2"
      },
      "source": [
        "$\n",
        "k_{n+1} = n^2 + k_n^2 - k_{n-1}\n",
        "$"
      ]
    },
    {
      "cell_type": "markdown",
      "metadata": {
        "id": "E3vMJiqrHmnQ"
      },
      "source": [
        "$\n",
        "f(n) = n^5 + 4n^2 + 2 |_{n=17}\n",
        "$"
      ]
    },
    {
      "cell_type": "markdown",
      "metadata": {
        "id": "9Pb-vhupHqAY"
      },
      "source": [
        "$\n",
        "\\frac{n!}{k!(n-k)!} = \\binom{n}{k}\n",
        "$"
      ]
    },
    {
      "cell_type": "markdown",
      "metadata": {
        "id": "e9Vu2FweHwXP"
      },
      "source": [
        "Take $\\sfrac{1}{2}$ cup of sugar, $\\dots$\n",
        " \n",
        "  $3\\times\\sfrac{1}{2}=1\\sfrac{1}{2}$\n",
        " \n",
        "\n",
        "Take ${}^1/_2$ cup of sugar, $\\dots$\n",
        " \n",
        "  $3\\times{}^1/_2=1{}^1/_2$"
      ]
    },
    {
      "cell_type": "markdown",
      "metadata": {
        "id": "Vx8uK5OZIpL8"
      },
      "source": [
        "\\begin{equation}\n",
        "  x = a_0 + \\cfrac{1}{a_1 \n",
        "          + \\cfrac{1}{a_2 \n",
        "          + \\cfrac{1}{a_3 + \\cfrac{1}{a_4} } } }\n",
        "\\end{equation}"
      ]
    },
    {
      "cell_type": "markdown",
      "metadata": {
        "id": "xXquiXRbJcYc"
      },
      "source": [
        "$\n",
        "\\begin{equation}\n",
        "  x = a_0 + \\cfrac{1}{a_1 \n",
        "          + \\cfrac{1}{a_2 \n",
        "          + \\cfrac{1}{a_3 + \\cfrac{1}{a_4} } } }\n",
        "\\end{equation}\n",
        "$"
      ]
    },
    {
      "cell_type": "markdown",
      "metadata": {
        "id": "10ThjIo3Jgde"
      },
      "source": [
        "$$\n",
        "\\begin{equation}\n",
        "  x = a_0 + \\cfrac{1}{a_1 \n",
        "          + \\cfrac{1}{a_2 \n",
        "          + \\cfrac{1}{a_3 + \\cfrac{1}{a_4} } } }\n",
        "\\end{equation}\n",
        "$$"
      ]
    },
    {
      "cell_type": "markdown",
      "metadata": {
        "id": "JTzQovi-I5Rt"
      },
      "source": [
        "$\n",
        "\\begin{equation}\n",
        "\\frac{\n",
        "    \\begin{array}[b]{r}\n",
        "      \\left( x_1 x_2 \\right)\\\\\n",
        "      \\times \\left( x'_1 x'_2 \\right)\n",
        "    \\end{array}\n",
        "  }{\n",
        "    \\left( y_1y_2y_3y_4 \\right)\n",
        "  }\n",
        "\\end{equation}\n",
        "$"
      ]
    },
    {
      "cell_type": "markdown",
      "metadata": {
        "id": "ZP4PkhQGJUJ8"
      },
      "source": [
        "$\n",
        "\\sqrt[n]{1+x+x^2+x^3+\\dots+x^n}\n",
        "$"
      ]
    },
    {
      "cell_type": "markdown",
      "metadata": {
        "id": "JGa4wO6bJ0ur"
      },
      "source": [
        "$\\sum_{i=1}^{10} t_i$  \n",
        "$\\displaystyle\\sum_{i=1}^{10} t_i$  \n",
        "$\\int_0^\\infty \\mathrm{e}^{-x}\\,\\mathrm{d}x$  \n",
        "$\\sum_{\\substack{\n",
        "   0<i<m \\\\\n",
        "   0<j<n\n",
        "  }} \n",
        " P(i,j)$  \n",
        " $\\int\\limits_a^b$"
      ]
    },
    {
      "cell_type": "markdown",
      "metadata": {
        "id": "VcRzvX40Kl8s"
      },
      "source": [
        "$$\n",
        "( a ), [ b ], \\{ c \\}, | d |, \\| e \\|,\n",
        "\\langle f \\rangle, \\lfloor g \\rfloor,\n",
        "\\lceil h \\rceil, \\ulcorner i \\urcorner,\n",
        "/ j \\backslash\n",
        "$$"
      ]
    },
    {
      "cell_type": "markdown",
      "metadata": {
        "id": "Jd5hNbOeLD5p"
      },
      "source": [
        "$\\left(\\frac{x^2}{y^3}\\right)$  \n",
        "$P\\left(A=2\\middle|\\frac{A^2}{B}>4\\right)$  \n",
        "$\\left\\{\\frac{x^2}{y^3}\\right\\}$  \n",
        "$\\left.\\frac{x^3}{3}\\right|_0^1$  \n",
        "$\\frac{\\mathrm d}{\\mathrm d x} \\left( k g(x) \\right)$  \n",
        "$\\frac{\\mathrm d}{\\mathrm d x} \\big( k g(x) \\big)$"
      ]
    },
    {
      "cell_type": "markdown",
      "metadata": {
        "id": "H9OvnOt3Lped"
      },
      "source": [
        " \\begin{matrix}\n",
        "  a & b & c \\\\\n",
        "  d & e & f \\\\\n",
        "  g & h & i\n",
        " \\end{matrix}  \n"
      ]
    },
    {
      "cell_type": "markdown",
      "metadata": {
        "id": "r28yiAEBL5M4"
      },
      "source": [
        "\n",
        "$A_{m,n}$ = \n",
        " \\begin{pmatrix}\n",
        "  a_{1,1} & a_{1,2} & \\cdots & a_{1,n} \\\\\n",
        "  a_{2,1} & a_{2,2} & \\cdots & a_{2,n} \\\\\n",
        "  \\vdots  & \\vdots  & \\ddots & \\vdots  \\\\\n",
        "  a_{m,1} & a_{m,2} & \\cdots & a_{m,n} \n",
        " \\end{pmatrix}"
      ]
    },
    {
      "cell_type": "markdown",
      "metadata": {
        "id": "2QgEQ7CCMoEj"
      },
      "source": [
        "\\begin{array}{c|c}\n",
        "  1 & 2 \\\\ \n",
        "  \\hline\n",
        "  3 & 4\n",
        " \\end{array}"
      ]
    },
    {
      "cell_type": "markdown",
      "metadata": {
        "id": "Ir7yMp-HMrgV"
      },
      "source": [
        "M = \\begin{bmatrix}\n",
        "       \\frac{5}{6} & \\frac{1}{6} & 0           \\\\[0.3em]\n",
        "       \\frac{5}{6} & 0           & \\frac{1}{6} \\\\[0.3em]\n",
        "       0           & \\frac{5}{6} & \\frac{1}{6}\n",
        "     \\end{bmatrix}"
      ]
    },
    {
      "cell_type": "markdown",
      "metadata": {
        "id": "KzwbjCq9MzdZ"
      },
      "source": [
        "A matrix in text must be set smaller:\n",
        "$\\bigl(\\begin{smallmatrix}\n",
        "a&b \\\\ c&d\n",
        "\\end{smallmatrix} \\bigr)$\n",
        "to not increase leading in a portion of text."
      ]
    },
    {
      "cell_type": "markdown",
      "metadata": {
        "id": "-ty7TB9qNE3z"
      },
      "source": [
        "$\\boldsymbol{\\beta} = (\\beta_1,\\beta_2,\\dotsc,\\beta_n)$"
      ]
    },
    {
      "cell_type": "markdown",
      "metadata": {
        "id": "p-Shihv7NWrQ"
      },
      "source": [
        "$k = {\\color{red}x} \\mathbin{\\color{blue}-} 2$"
      ]
    },
    {
      "cell_type": "markdown",
      "metadata": {
        "id": "fhzBbDBINaUo"
      },
      "source": [
        "$\n",
        "f(n) =\n",
        "  \\begin{cases}\n",
        "    n/2       & \\quad \\text{if } n \\text{ is even}\\\\\n",
        "    -(n+1)/2  & \\quad \\text{if } n \\text{ is odd}\n",
        "  \\end{cases}\n",
        "$  "
      ]
    },
    {
      "cell_type": "markdown",
      "metadata": {
        "id": "pupoXjWnOB3O"
      },
      "source": [
        "$\n",
        "\\left(\n",
        "    \\begin{array}{c}\n",
        "      n \\\\\n",
        "      r\n",
        "    \\end{array}\n",
        "  \\right) = \\frac{n!}{r!(n-r)!}\n",
        "$  \n",
        "$\n",
        "\\left(\\!\n",
        "    \\begin{array}{c}\n",
        "      n \\\\\n",
        "      r\n",
        "    \\end{array}\n",
        "  \\!\\right) = \\frac{n!}{r!(n-r)!}\n",
        "$"
      ]
    }
  ]
}